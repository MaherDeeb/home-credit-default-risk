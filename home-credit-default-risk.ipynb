{
 "cells": [
  {
   "cell_type": "markdown",
   "metadata": {},
   "source": [
    "# Home Credit Default Risk"
   ]
  },
  {
   "cell_type": "markdown",
   "metadata": {},
   "source": [
    "## Abstract:\n",
    "this notebook explores the data related to home credit default risk competition in Kaggle. The data will be combined toegther and then feature exploration analysis is done. Finaly a prediction has been done and prepared to be sumbited to Kaggle"
   ]
  },
  {
   "cell_type": "markdown",
   "metadata": {},
   "source": [
    "## Import Libraries"
   ]
  },
  {
   "cell_type": "code",
   "execution_count": 170,
   "metadata": {
    "collapsed": true
   },
   "outputs": [],
   "source": [
    "import pandas as pd\n",
    "import numpy as np\n",
    "import matplotlib.pyplot as plt\n",
    "%matplotlib inline\n",
    "from __future__ import print_function\n",
    "from ipywidgets import interact, interactive, fixed, interact_manual\n",
    "import ipywidgets as widgets\n",
    "from sklearn.ensemble import RandomForestClassifier\n",
    "import lightgbm as lgb"
   ]
  },
  {
   "cell_type": "markdown",
   "metadata": {},
   "source": [
    "## load data\n",
    "there are 10 files:\n",
    "* 8 related to data that we need to build the model\n",
    "* 1 related to data where we have to use our model to predict the labels\n",
    "* 1 is an example shows how we should submit"
   ]
  },
  {
   "cell_type": "markdown",
   "metadata": {},
   "source": [
    "Define global variable"
   ]
  },
  {
   "cell_type": "code",
   "execution_count": 116,
   "metadata": {
    "collapsed": true
   },
   "outputs": [],
   "source": [
    "data_path = 'the path to the data Dont forget to unzip the data'"
   ]
  },
  {
   "cell_type": "markdown",
   "metadata": {},
   "source": [
    "Load file 1: application_train.csv.zip"
   ]
  },
  {
   "cell_type": "code",
   "execution_count": 117,
   "metadata": {
    "collapsed": true
   },
   "outputs": [],
   "source": [
    "df_train = pd.read_csv(data_path+'application_train.csv')"
   ]
  },
  {
   "cell_type": "code",
   "execution_count": 118,
   "metadata": {},
   "outputs": [
    {
     "data": {
      "text/plain": [
       "0    1\n",
       "1    0\n",
       "2    0\n",
       "3    0\n",
       "4    0\n",
       "Name: TARGET, dtype: int64"
      ]
     },
     "execution_count": 118,
     "metadata": {},
     "output_type": "execute_result"
    }
   ],
   "source": [
    "Y_train = df_train.TARGET\n",
    "df_train = df_train.drop(['TARGET'],axis = 1)\n",
    "Y_train.head()"
   ]
  },
  {
   "cell_type": "code",
   "execution_count": 119,
   "metadata": {},
   "outputs": [
    {
     "name": "stdout",
     "output_type": "stream",
     "text": [
      "(307511, 121)\n"
     ]
    },
    {
     "data": {
      "text/html": [
       "<div>\n",
       "<style scoped>\n",
       "    .dataframe tbody tr th:only-of-type {\n",
       "        vertical-align: middle;\n",
       "    }\n",
       "\n",
       "    .dataframe tbody tr th {\n",
       "        vertical-align: top;\n",
       "    }\n",
       "\n",
       "    .dataframe thead th {\n",
       "        text-align: right;\n",
       "    }\n",
       "</style>\n",
       "<table border=\"1\" class=\"dataframe\">\n",
       "  <thead>\n",
       "    <tr style=\"text-align: right;\">\n",
       "      <th></th>\n",
       "      <th>SK_ID_CURR</th>\n",
       "      <th>NAME_CONTRACT_TYPE</th>\n",
       "      <th>CODE_GENDER</th>\n",
       "      <th>FLAG_OWN_CAR</th>\n",
       "      <th>FLAG_OWN_REALTY</th>\n",
       "      <th>CNT_CHILDREN</th>\n",
       "      <th>AMT_INCOME_TOTAL</th>\n",
       "      <th>AMT_CREDIT</th>\n",
       "      <th>AMT_ANNUITY</th>\n",
       "      <th>AMT_GOODS_PRICE</th>\n",
       "      <th>...</th>\n",
       "      <th>FLAG_DOCUMENT_18</th>\n",
       "      <th>FLAG_DOCUMENT_19</th>\n",
       "      <th>FLAG_DOCUMENT_20</th>\n",
       "      <th>FLAG_DOCUMENT_21</th>\n",
       "      <th>AMT_REQ_CREDIT_BUREAU_HOUR</th>\n",
       "      <th>AMT_REQ_CREDIT_BUREAU_DAY</th>\n",
       "      <th>AMT_REQ_CREDIT_BUREAU_WEEK</th>\n",
       "      <th>AMT_REQ_CREDIT_BUREAU_MON</th>\n",
       "      <th>AMT_REQ_CREDIT_BUREAU_QRT</th>\n",
       "      <th>AMT_REQ_CREDIT_BUREAU_YEAR</th>\n",
       "    </tr>\n",
       "  </thead>\n",
       "  <tbody>\n",
       "    <tr>\n",
       "      <th>0</th>\n",
       "      <td>100002</td>\n",
       "      <td>Cash loans</td>\n",
       "      <td>M</td>\n",
       "      <td>N</td>\n",
       "      <td>Y</td>\n",
       "      <td>0</td>\n",
       "      <td>202500.0</td>\n",
       "      <td>406597.5</td>\n",
       "      <td>24700.5</td>\n",
       "      <td>351000.0</td>\n",
       "      <td>...</td>\n",
       "      <td>0</td>\n",
       "      <td>0</td>\n",
       "      <td>0</td>\n",
       "      <td>0</td>\n",
       "      <td>0.0</td>\n",
       "      <td>0.0</td>\n",
       "      <td>0.0</td>\n",
       "      <td>0.0</td>\n",
       "      <td>0.0</td>\n",
       "      <td>1.0</td>\n",
       "    </tr>\n",
       "    <tr>\n",
       "      <th>1</th>\n",
       "      <td>100003</td>\n",
       "      <td>Cash loans</td>\n",
       "      <td>F</td>\n",
       "      <td>N</td>\n",
       "      <td>N</td>\n",
       "      <td>0</td>\n",
       "      <td>270000.0</td>\n",
       "      <td>1293502.5</td>\n",
       "      <td>35698.5</td>\n",
       "      <td>1129500.0</td>\n",
       "      <td>...</td>\n",
       "      <td>0</td>\n",
       "      <td>0</td>\n",
       "      <td>0</td>\n",
       "      <td>0</td>\n",
       "      <td>0.0</td>\n",
       "      <td>0.0</td>\n",
       "      <td>0.0</td>\n",
       "      <td>0.0</td>\n",
       "      <td>0.0</td>\n",
       "      <td>0.0</td>\n",
       "    </tr>\n",
       "    <tr>\n",
       "      <th>2</th>\n",
       "      <td>100004</td>\n",
       "      <td>Revolving loans</td>\n",
       "      <td>M</td>\n",
       "      <td>Y</td>\n",
       "      <td>Y</td>\n",
       "      <td>0</td>\n",
       "      <td>67500.0</td>\n",
       "      <td>135000.0</td>\n",
       "      <td>6750.0</td>\n",
       "      <td>135000.0</td>\n",
       "      <td>...</td>\n",
       "      <td>0</td>\n",
       "      <td>0</td>\n",
       "      <td>0</td>\n",
       "      <td>0</td>\n",
       "      <td>0.0</td>\n",
       "      <td>0.0</td>\n",
       "      <td>0.0</td>\n",
       "      <td>0.0</td>\n",
       "      <td>0.0</td>\n",
       "      <td>0.0</td>\n",
       "    </tr>\n",
       "    <tr>\n",
       "      <th>3</th>\n",
       "      <td>100006</td>\n",
       "      <td>Cash loans</td>\n",
       "      <td>F</td>\n",
       "      <td>N</td>\n",
       "      <td>Y</td>\n",
       "      <td>0</td>\n",
       "      <td>135000.0</td>\n",
       "      <td>312682.5</td>\n",
       "      <td>29686.5</td>\n",
       "      <td>297000.0</td>\n",
       "      <td>...</td>\n",
       "      <td>0</td>\n",
       "      <td>0</td>\n",
       "      <td>0</td>\n",
       "      <td>0</td>\n",
       "      <td>NaN</td>\n",
       "      <td>NaN</td>\n",
       "      <td>NaN</td>\n",
       "      <td>NaN</td>\n",
       "      <td>NaN</td>\n",
       "      <td>NaN</td>\n",
       "    </tr>\n",
       "    <tr>\n",
       "      <th>4</th>\n",
       "      <td>100007</td>\n",
       "      <td>Cash loans</td>\n",
       "      <td>M</td>\n",
       "      <td>N</td>\n",
       "      <td>Y</td>\n",
       "      <td>0</td>\n",
       "      <td>121500.0</td>\n",
       "      <td>513000.0</td>\n",
       "      <td>21865.5</td>\n",
       "      <td>513000.0</td>\n",
       "      <td>...</td>\n",
       "      <td>0</td>\n",
       "      <td>0</td>\n",
       "      <td>0</td>\n",
       "      <td>0</td>\n",
       "      <td>0.0</td>\n",
       "      <td>0.0</td>\n",
       "      <td>0.0</td>\n",
       "      <td>0.0</td>\n",
       "      <td>0.0</td>\n",
       "      <td>0.0</td>\n",
       "    </tr>\n",
       "  </tbody>\n",
       "</table>\n",
       "<p>5 rows × 121 columns</p>\n",
       "</div>"
      ],
      "text/plain": [
       "   SK_ID_CURR NAME_CONTRACT_TYPE CODE_GENDER FLAG_OWN_CAR FLAG_OWN_REALTY  \\\n",
       "0      100002         Cash loans           M            N               Y   \n",
       "1      100003         Cash loans           F            N               N   \n",
       "2      100004    Revolving loans           M            Y               Y   \n",
       "3      100006         Cash loans           F            N               Y   \n",
       "4      100007         Cash loans           M            N               Y   \n",
       "\n",
       "   CNT_CHILDREN  AMT_INCOME_TOTAL  AMT_CREDIT  AMT_ANNUITY  AMT_GOODS_PRICE  \\\n",
       "0             0          202500.0    406597.5      24700.5         351000.0   \n",
       "1             0          270000.0   1293502.5      35698.5        1129500.0   \n",
       "2             0           67500.0    135000.0       6750.0         135000.0   \n",
       "3             0          135000.0    312682.5      29686.5         297000.0   \n",
       "4             0          121500.0    513000.0      21865.5         513000.0   \n",
       "\n",
       "              ...             FLAG_DOCUMENT_18 FLAG_DOCUMENT_19  \\\n",
       "0             ...                            0                0   \n",
       "1             ...                            0                0   \n",
       "2             ...                            0                0   \n",
       "3             ...                            0                0   \n",
       "4             ...                            0                0   \n",
       "\n",
       "  FLAG_DOCUMENT_20 FLAG_DOCUMENT_21 AMT_REQ_CREDIT_BUREAU_HOUR  \\\n",
       "0                0                0                        0.0   \n",
       "1                0                0                        0.0   \n",
       "2                0                0                        0.0   \n",
       "3                0                0                        NaN   \n",
       "4                0                0                        0.0   \n",
       "\n",
       "   AMT_REQ_CREDIT_BUREAU_DAY  AMT_REQ_CREDIT_BUREAU_WEEK  \\\n",
       "0                        0.0                         0.0   \n",
       "1                        0.0                         0.0   \n",
       "2                        0.0                         0.0   \n",
       "3                        NaN                         NaN   \n",
       "4                        0.0                         0.0   \n",
       "\n",
       "   AMT_REQ_CREDIT_BUREAU_MON  AMT_REQ_CREDIT_BUREAU_QRT  \\\n",
       "0                        0.0                        0.0   \n",
       "1                        0.0                        0.0   \n",
       "2                        0.0                        0.0   \n",
       "3                        NaN                        NaN   \n",
       "4                        0.0                        0.0   \n",
       "\n",
       "   AMT_REQ_CREDIT_BUREAU_YEAR  \n",
       "0                         1.0  \n",
       "1                         0.0  \n",
       "2                         0.0  \n",
       "3                         NaN  \n",
       "4                         0.0  \n",
       "\n",
       "[5 rows x 121 columns]"
      ]
     },
     "execution_count": 119,
     "metadata": {},
     "output_type": "execute_result"
    }
   ],
   "source": [
    "print(df_train.shape)\n",
    "df_train.head()"
   ]
  },
  {
   "cell_type": "markdown",
   "metadata": {},
   "source": [
    "Load file2: application_test.csv"
   ]
  },
  {
   "cell_type": "code",
   "execution_count": 120,
   "metadata": {
    "collapsed": true
   },
   "outputs": [],
   "source": [
    "df_test = pd.read_csv(data_path+'application_test.csv')\n",
    "df_id_submit=df_test.SK_ID_CURR"
   ]
  },
  {
   "cell_type": "code",
   "execution_count": 121,
   "metadata": {},
   "outputs": [
    {
     "name": "stdout",
     "output_type": "stream",
     "text": [
      "(48744, 121)\n"
     ]
    }
   ],
   "source": [
    "print(df_test.shape)"
   ]
  },
  {
   "cell_type": "markdown",
   "metadata": {},
   "source": [
    "Load file3: bureau.csv"
   ]
  },
  {
   "cell_type": "code",
   "execution_count": 122,
   "metadata": {
    "collapsed": true
   },
   "outputs": [],
   "source": [
    "df_bureau = pd.read_csv(data_path+'bureau.csv')"
   ]
  },
  {
   "cell_type": "code",
   "execution_count": 123,
   "metadata": {},
   "outputs": [
    {
     "name": "stdout",
     "output_type": "stream",
     "text": [
      "(1716428, 17)\n",
      "Closed      1079273\n",
      "Active       630607\n",
      "Sold           6527\n",
      "Bad debt         21\n",
      "Name: CREDIT_ACTIVE, dtype: int64\n"
     ]
    },
    {
     "data": {
      "text/html": [
       "<div>\n",
       "<style scoped>\n",
       "    .dataframe tbody tr th:only-of-type {\n",
       "        vertical-align: middle;\n",
       "    }\n",
       "\n",
       "    .dataframe tbody tr th {\n",
       "        vertical-align: top;\n",
       "    }\n",
       "\n",
       "    .dataframe thead th {\n",
       "        text-align: right;\n",
       "    }\n",
       "</style>\n",
       "<table border=\"1\" class=\"dataframe\">\n",
       "  <thead>\n",
       "    <tr style=\"text-align: right;\">\n",
       "      <th></th>\n",
       "      <th>SK_ID_CURR</th>\n",
       "      <th>SK_ID_BUREAU</th>\n",
       "      <th>CREDIT_ACTIVE</th>\n",
       "      <th>CREDIT_CURRENCY</th>\n",
       "      <th>DAYS_CREDIT</th>\n",
       "      <th>CREDIT_DAY_OVERDUE</th>\n",
       "      <th>DAYS_CREDIT_ENDDATE</th>\n",
       "      <th>DAYS_ENDDATE_FACT</th>\n",
       "      <th>AMT_CREDIT_MAX_OVERDUE</th>\n",
       "      <th>CNT_CREDIT_PROLONG</th>\n",
       "      <th>AMT_CREDIT_SUM</th>\n",
       "      <th>AMT_CREDIT_SUM_DEBT</th>\n",
       "      <th>AMT_CREDIT_SUM_LIMIT</th>\n",
       "      <th>AMT_CREDIT_SUM_OVERDUE</th>\n",
       "      <th>CREDIT_TYPE</th>\n",
       "      <th>DAYS_CREDIT_UPDATE</th>\n",
       "      <th>AMT_ANNUITY</th>\n",
       "    </tr>\n",
       "  </thead>\n",
       "  <tbody>\n",
       "    <tr>\n",
       "      <th>0</th>\n",
       "      <td>215354</td>\n",
       "      <td>5714462</td>\n",
       "      <td>Closed</td>\n",
       "      <td>currency 1</td>\n",
       "      <td>-497</td>\n",
       "      <td>0</td>\n",
       "      <td>-153.0</td>\n",
       "      <td>-153.0</td>\n",
       "      <td>NaN</td>\n",
       "      <td>0</td>\n",
       "      <td>91323.0</td>\n",
       "      <td>0.0</td>\n",
       "      <td>NaN</td>\n",
       "      <td>0.0</td>\n",
       "      <td>Consumer credit</td>\n",
       "      <td>-131</td>\n",
       "      <td>NaN</td>\n",
       "    </tr>\n",
       "    <tr>\n",
       "      <th>1</th>\n",
       "      <td>215354</td>\n",
       "      <td>5714463</td>\n",
       "      <td>Active</td>\n",
       "      <td>currency 1</td>\n",
       "      <td>-208</td>\n",
       "      <td>0</td>\n",
       "      <td>1075.0</td>\n",
       "      <td>NaN</td>\n",
       "      <td>NaN</td>\n",
       "      <td>0</td>\n",
       "      <td>225000.0</td>\n",
       "      <td>171342.0</td>\n",
       "      <td>NaN</td>\n",
       "      <td>0.0</td>\n",
       "      <td>Credit card</td>\n",
       "      <td>-20</td>\n",
       "      <td>NaN</td>\n",
       "    </tr>\n",
       "    <tr>\n",
       "      <th>2</th>\n",
       "      <td>215354</td>\n",
       "      <td>5714464</td>\n",
       "      <td>Active</td>\n",
       "      <td>currency 1</td>\n",
       "      <td>-203</td>\n",
       "      <td>0</td>\n",
       "      <td>528.0</td>\n",
       "      <td>NaN</td>\n",
       "      <td>NaN</td>\n",
       "      <td>0</td>\n",
       "      <td>464323.5</td>\n",
       "      <td>NaN</td>\n",
       "      <td>NaN</td>\n",
       "      <td>0.0</td>\n",
       "      <td>Consumer credit</td>\n",
       "      <td>-16</td>\n",
       "      <td>NaN</td>\n",
       "    </tr>\n",
       "    <tr>\n",
       "      <th>3</th>\n",
       "      <td>215354</td>\n",
       "      <td>5714465</td>\n",
       "      <td>Active</td>\n",
       "      <td>currency 1</td>\n",
       "      <td>-203</td>\n",
       "      <td>0</td>\n",
       "      <td>NaN</td>\n",
       "      <td>NaN</td>\n",
       "      <td>NaN</td>\n",
       "      <td>0</td>\n",
       "      <td>90000.0</td>\n",
       "      <td>NaN</td>\n",
       "      <td>NaN</td>\n",
       "      <td>0.0</td>\n",
       "      <td>Credit card</td>\n",
       "      <td>-16</td>\n",
       "      <td>NaN</td>\n",
       "    </tr>\n",
       "    <tr>\n",
       "      <th>4</th>\n",
       "      <td>215354</td>\n",
       "      <td>5714466</td>\n",
       "      <td>Active</td>\n",
       "      <td>currency 1</td>\n",
       "      <td>-629</td>\n",
       "      <td>0</td>\n",
       "      <td>1197.0</td>\n",
       "      <td>NaN</td>\n",
       "      <td>77674.5</td>\n",
       "      <td>0</td>\n",
       "      <td>2700000.0</td>\n",
       "      <td>NaN</td>\n",
       "      <td>NaN</td>\n",
       "      <td>0.0</td>\n",
       "      <td>Consumer credit</td>\n",
       "      <td>-21</td>\n",
       "      <td>NaN</td>\n",
       "    </tr>\n",
       "  </tbody>\n",
       "</table>\n",
       "</div>"
      ],
      "text/plain": [
       "   SK_ID_CURR  SK_ID_BUREAU CREDIT_ACTIVE CREDIT_CURRENCY  DAYS_CREDIT  \\\n",
       "0      215354       5714462        Closed      currency 1         -497   \n",
       "1      215354       5714463        Active      currency 1         -208   \n",
       "2      215354       5714464        Active      currency 1         -203   \n",
       "3      215354       5714465        Active      currency 1         -203   \n",
       "4      215354       5714466        Active      currency 1         -629   \n",
       "\n",
       "   CREDIT_DAY_OVERDUE  DAYS_CREDIT_ENDDATE  DAYS_ENDDATE_FACT  \\\n",
       "0                   0               -153.0             -153.0   \n",
       "1                   0               1075.0                NaN   \n",
       "2                   0                528.0                NaN   \n",
       "3                   0                  NaN                NaN   \n",
       "4                   0               1197.0                NaN   \n",
       "\n",
       "   AMT_CREDIT_MAX_OVERDUE  CNT_CREDIT_PROLONG  AMT_CREDIT_SUM  \\\n",
       "0                     NaN                   0         91323.0   \n",
       "1                     NaN                   0        225000.0   \n",
       "2                     NaN                   0        464323.5   \n",
       "3                     NaN                   0         90000.0   \n",
       "4                 77674.5                   0       2700000.0   \n",
       "\n",
       "   AMT_CREDIT_SUM_DEBT  AMT_CREDIT_SUM_LIMIT  AMT_CREDIT_SUM_OVERDUE  \\\n",
       "0                  0.0                   NaN                     0.0   \n",
       "1             171342.0                   NaN                     0.0   \n",
       "2                  NaN                   NaN                     0.0   \n",
       "3                  NaN                   NaN                     0.0   \n",
       "4                  NaN                   NaN                     0.0   \n",
       "\n",
       "       CREDIT_TYPE  DAYS_CREDIT_UPDATE  AMT_ANNUITY  \n",
       "0  Consumer credit                -131          NaN  \n",
       "1      Credit card                 -20          NaN  \n",
       "2  Consumer credit                 -16          NaN  \n",
       "3      Credit card                 -16          NaN  \n",
       "4  Consumer credit                 -21          NaN  "
      ]
     },
     "execution_count": 123,
     "metadata": {},
     "output_type": "execute_result"
    }
   ],
   "source": [
    "print(df_bureau.shape)\n",
    "print(df_bureau.CREDIT_ACTIVE.value_counts())\n",
    "df_bureau.head()"
   ]
  },
  {
   "cell_type": "code",
   "execution_count": 124,
   "metadata": {},
   "outputs": [],
   "source": [
    "df_feature_1 = df_bureau.groupby(['SK_ID_CURR'], axis=0)['DAYS_CREDIT'].agg(['count','mean','std','min','max'])\n",
    "df_feature_2 = df_bureau.groupby(['SK_ID_CURR'], axis=0)['CREDIT_DAY_OVERDUE'].agg(['mean','std','min','max'])\n",
    "df_feature_3 = df_bureau.groupby(['SK_ID_CURR'], axis=0)['DAYS_CREDIT_ENDDATE'].agg(['mean','std','min','max'])\n",
    "\n",
    "df_feature_4 = df_bureau[df_bureau.CREDIT_ACTIVE=='Active'].\\\n",
    "groupby(['SK_ID_CURR'], axis=0)['DAYS_CREDIT'].agg(['count','mean','std','min','max'])\n",
    "\n",
    "df_feature_5 = df_bureau[df_bureau.CREDIT_ACTIVE=='Active'].\\\n",
    "groupby(['SK_ID_CURR'], axis=0)['CREDIT_DAY_OVERDUE'].agg(['mean','std','min','max'])\n",
    "\n",
    "df_feature_6 = df_bureau[df_bureau.CREDIT_ACTIVE=='Active'].\\\n",
    "groupby(['SK_ID_CURR'], axis=0)['DAYS_CREDIT_ENDDATE'].agg(['mean','std','min','max'])\n",
    "\n",
    "df_feature_7 = df_bureau[df_bureau.CREDIT_ACTIVE=='Closed'].\\\n",
    "groupby(['SK_ID_CURR'], axis=0)['DAYS_CREDIT'].agg(['count','mean','std','min','max'])\n",
    "\n",
    "df_feature_8 = df_bureau[df_bureau.CREDIT_ACTIVE=='Closed'].\\\n",
    "groupby(['SK_ID_CURR'], axis=0)['CREDIT_DAY_OVERDUE'].agg(['mean','std','min','max'])\n",
    "\n",
    "df_feature_9 = df_bureau[df_bureau.CREDIT_ACTIVE=='Closed'].\\\n",
    "groupby(['SK_ID_CURR'], axis=0)['DAYS_CREDIT_ENDDATE'].agg(['mean','std','min','max'])\n",
    "\n",
    "df_feature_10 = df_bureau[df_bureau.CREDIT_ACTIVE=='Sold'].\\\n",
    "groupby(['SK_ID_CURR'], axis=0)['DAYS_CREDIT'].agg(['count','mean','std','min','max'])\n",
    "\n",
    "df_feature_11 = df_bureau[df_bureau.CREDIT_ACTIVE=='Sold'].\\\n",
    "groupby(['SK_ID_CURR'], axis=0)['CREDIT_DAY_OVERDUE'].agg(['mean','std','min','max'])\n",
    "\n",
    "df_feature_12 = df_bureau[df_bureau.CREDIT_ACTIVE=='Sold'].\\\n",
    "groupby(['SK_ID_CURR'], axis=0)['DAYS_CREDIT_ENDDATE'].agg(['mean','std','min','max'])\n",
    "\n",
    "df_feature_13 = df_bureau[df_bureau.CREDIT_ACTIVE=='Bad debt'].\\\n",
    "groupby(['SK_ID_CURR'], axis=0)['DAYS_CREDIT'].agg(['count','mean','std','min','max'])\n",
    "\n",
    "df_feature_14 = df_bureau[df_bureau.CREDIT_ACTIVE=='Bad debt'].\\\n",
    "groupby(['SK_ID_CURR'], axis=0)['CREDIT_DAY_OVERDUE'].agg(['mean','std','min','max'])\n",
    "\n",
    "df_feature_15 = df_bureau[df_bureau.CREDIT_ACTIVE=='Bad debt'].\\\n",
    "groupby(['SK_ID_CURR'], axis=0)['DAYS_CREDIT_ENDDATE'].agg(['mean','std','min','max'])"
   ]
  },
  {
   "cell_type": "code",
   "execution_count": 125,
   "metadata": {},
   "outputs": [
    {
     "data": {
      "text/html": [
       "<div>\n",
       "<style scoped>\n",
       "    .dataframe tbody tr th:only-of-type {\n",
       "        vertical-align: middle;\n",
       "    }\n",
       "\n",
       "    .dataframe tbody tr th {\n",
       "        vertical-align: top;\n",
       "    }\n",
       "\n",
       "    .dataframe thead th {\n",
       "        text-align: right;\n",
       "    }\n",
       "</style>\n",
       "<table border=\"1\" class=\"dataframe\">\n",
       "  <thead>\n",
       "    <tr style=\"text-align: right;\">\n",
       "      <th></th>\n",
       "      <th>mean</th>\n",
       "      <th>std</th>\n",
       "      <th>min</th>\n",
       "      <th>max</th>\n",
       "    </tr>\n",
       "  </thead>\n",
       "  <tbody>\n",
       "    <tr>\n",
       "      <th>count</th>\n",
       "      <td>20.000000</td>\n",
       "      <td>0.0</td>\n",
       "      <td>20.000000</td>\n",
       "      <td>20.000000</td>\n",
       "    </tr>\n",
       "    <tr>\n",
       "      <th>mean</th>\n",
       "      <td>-1632.350000</td>\n",
       "      <td>NaN</td>\n",
       "      <td>-1632.350000</td>\n",
       "      <td>-1632.350000</td>\n",
       "    </tr>\n",
       "    <tr>\n",
       "      <th>std</th>\n",
       "      <td>697.259695</td>\n",
       "      <td>NaN</td>\n",
       "      <td>697.259695</td>\n",
       "      <td>697.259695</td>\n",
       "    </tr>\n",
       "    <tr>\n",
       "      <th>min</th>\n",
       "      <td>-2558.000000</td>\n",
       "      <td>NaN</td>\n",
       "      <td>-2558.000000</td>\n",
       "      <td>-2558.000000</td>\n",
       "    </tr>\n",
       "    <tr>\n",
       "      <th>25%</th>\n",
       "      <td>-2168.500000</td>\n",
       "      <td>NaN</td>\n",
       "      <td>-2168.500000</td>\n",
       "      <td>-2168.500000</td>\n",
       "    </tr>\n",
       "    <tr>\n",
       "      <th>50%</th>\n",
       "      <td>-1748.500000</td>\n",
       "      <td>NaN</td>\n",
       "      <td>-1748.500000</td>\n",
       "      <td>-1748.500000</td>\n",
       "    </tr>\n",
       "    <tr>\n",
       "      <th>75%</th>\n",
       "      <td>-1055.750000</td>\n",
       "      <td>NaN</td>\n",
       "      <td>-1055.750000</td>\n",
       "      <td>-1055.750000</td>\n",
       "    </tr>\n",
       "    <tr>\n",
       "      <th>max</th>\n",
       "      <td>52.000000</td>\n",
       "      <td>NaN</td>\n",
       "      <td>52.000000</td>\n",
       "      <td>52.000000</td>\n",
       "    </tr>\n",
       "  </tbody>\n",
       "</table>\n",
       "</div>"
      ],
      "text/plain": [
       "              mean  std          min          max\n",
       "count    20.000000  0.0    20.000000    20.000000\n",
       "mean  -1632.350000  NaN -1632.350000 -1632.350000\n",
       "std     697.259695  NaN   697.259695   697.259695\n",
       "min   -2558.000000  NaN -2558.000000 -2558.000000\n",
       "25%   -2168.500000  NaN -2168.500000 -2168.500000\n",
       "50%   -1748.500000  NaN -1748.500000 -1748.500000\n",
       "75%   -1055.750000  NaN -1055.750000 -1055.750000\n",
       "max      52.000000  NaN    52.000000    52.000000"
      ]
     },
     "execution_count": 125,
     "metadata": {},
     "output_type": "execute_result"
    }
   ],
   "source": [
    "df_feature_15.describe()"
   ]
  },
  {
   "cell_type": "markdown",
   "metadata": {},
   "source": [
    "Combine the features extracted from bureau.csv with train and test datasets"
   ]
  },
  {
   "cell_type": "code",
   "execution_count": 126,
   "metadata": {
    "collapsed": true
   },
   "outputs": [],
   "source": [
    "df_train.index = df_train.SK_ID_CURR\n",
    "df_test.index = df_test.SK_ID_CURR\n",
    "\n",
    "df_train = pd.concat([df_train,df_feature_1],axis=1, join_axes=[df_train.index])\n",
    "df_train = pd.concat([df_train,df_feature_2],axis=1, join_axes=[df_train.index])\n",
    "df_train = pd.concat([df_train,df_feature_3],axis=1, join_axes=[df_train.index])\n",
    "df_train = pd.concat([df_train,df_feature_4],axis=1, join_axes=[df_train.index])\n",
    "df_train = pd.concat([df_train,df_feature_5],axis=1, join_axes=[df_train.index])\n",
    "df_train = pd.concat([df_train,df_feature_6],axis=1, join_axes=[df_train.index])\n",
    "df_train = pd.concat([df_train,df_feature_7],axis=1, join_axes=[df_train.index])\n",
    "df_train = pd.concat([df_train,df_feature_8],axis=1, join_axes=[df_train.index])\n",
    "df_train = pd.concat([df_train,df_feature_9],axis=1, join_axes=[df_train.index])\n",
    "df_train = pd.concat([df_train,df_feature_10],axis=1, join_axes=[df_train.index])\n",
    "df_train = pd.concat([df_train,df_feature_11],axis=1, join_axes=[df_train.index])\n",
    "df_train = pd.concat([df_train,df_feature_12],axis=1, join_axes=[df_train.index])\n",
    "df_train = pd.concat([df_train,df_feature_13],axis=1, join_axes=[df_train.index])\n",
    "df_train = pd.concat([df_train,df_feature_14],axis=1, join_axes=[df_train.index])\n",
    "df_train = pd.concat([df_train,df_feature_15],axis=1, join_axes=[df_train.index])\n",
    "\n",
    "df_test = pd.concat([df_test,df_feature_1],axis=1, join_axes=[df_test.index])\n",
    "df_test = pd.concat([df_test,df_feature_2],axis=1, join_axes=[df_test.index])\n",
    "df_test = pd.concat([df_test,df_feature_3],axis=1, join_axes=[df_test.index])\n",
    "df_test = pd.concat([df_test,df_feature_4],axis=1, join_axes=[df_test.index])\n",
    "df_test = pd.concat([df_test,df_feature_5],axis=1, join_axes=[df_test.index])\n",
    "df_test = pd.concat([df_test,df_feature_6],axis=1, join_axes=[df_test.index])\n",
    "df_test = pd.concat([df_test,df_feature_7],axis=1, join_axes=[df_test.index])\n",
    "df_test = pd.concat([df_test,df_feature_8],axis=1, join_axes=[df_test.index])\n",
    "df_test = pd.concat([df_test,df_feature_9],axis=1, join_axes=[df_test.index])\n",
    "df_test = pd.concat([df_test,df_feature_10],axis=1, join_axes=[df_test.index])\n",
    "df_test = pd.concat([df_test,df_feature_11],axis=1, join_axes=[df_test.index])\n",
    "df_test = pd.concat([df_test,df_feature_12],axis=1, join_axes=[df_test.index])\n",
    "df_test = pd.concat([df_test,df_feature_13],axis=1, join_axes=[df_test.index])\n",
    "df_test = pd.concat([df_test,df_feature_14],axis=1, join_axes=[df_test.index])\n",
    "df_test = pd.concat([df_test,df_feature_15],axis=1, join_axes=[df_test.index])"
   ]
  },
  {
   "cell_type": "markdown",
   "metadata": {},
   "source": [
    "## Compare both train and test datasets\n",
    "In this point we have to compare both train and test datastes. This is important because if there is some features that have different distribution both sets (e.g. different value range) this will lead to wrong prediction and such features have to be exculded. In order to compare both sets we follow the following plan:\n",
    "1. compare the statistical properties: we will compare for each 10 variable together to make it easy to see the differences"
   ]
  },
  {
   "cell_type": "code",
   "execution_count": 127,
   "metadata": {},
   "outputs": [
    {
     "name": "stdout",
     "output_type": "stream",
     "text": [
      "170\n",
      "170\n"
     ]
    }
   ],
   "source": [
    "## interactive tool\n",
    "col_train = df_train.columns[df_train.dtypes != 'object']\n",
    "col_test = df_test.columns[df_test.dtypes != 'object']\n",
    "print(len(col_train))\n",
    "print(len(col_test))\n",
    "\n",
    "def f(x,print_feature=False):\n",
    "    \n",
    "    compare_columns(x,df_train,df_test,print_feature)\n"
   ]
  },
  {
   "cell_type": "code",
   "execution_count": 128,
   "metadata": {
    "collapsed": true
   },
   "outputs": [],
   "source": [
    "df_total = pd.concat([df_train,df_test])\n",
    "df_total.index=range(len(df_total['SK_ID_CURR']))\n",
    "for col_i in df_train.columns[df_train.dtypes == 'object']:\n",
    "    \n",
    "    df_total[col_i] = df_total[col_i].factorize()[0]\n",
    "    df_train[col_i] = df_total.loc[range(df_train.shape[0]),col_i].values\n",
    "    df_test[col_i] =  df_total.loc[range(df_train.shape[0],df_train.shape[0]+df_test.shape[0]),col_i].values"
   ]
  },
  {
   "cell_type": "code",
   "execution_count": 129,
   "metadata": {
    "collapsed": true
   },
   "outputs": [],
   "source": [
    "def compare_columns(col_i,df_train,df_test,print_feature):\n",
    "    \n",
    "    col_train = df_train.columns[df_train.dtypes != 'object']\n",
    "    col_test = df_test.columns[df_test.dtypes != 'object']\n",
    "\n",
    "    print('the column {} in both training and testing sets are: '.format(col_i) + \n",
    "          col_train[col_i] +' , ' + col_test[col_i])\n",
    "    print('the mean value of the column {} in both training and testing sets are: '.format(col_i) + \n",
    "          str(df_train[col_train[col_i]].mean()) +' , ' + str(df_test[col_test[col_i]].mean()))\n",
    "    print('the std value of the column {} in both training and testing sets are: '.format(col_i) + \n",
    "          str(df_train[col_train[col_i]].std()) +' , ' + str(df_test[col_test[col_i]].std()))\n",
    "    print('the max value of the column {} in both training and testing sets are: '.format(col_i) + \n",
    "          str(df_train[col_train[col_i]].max()) +' , ' + str(df_test[col_test[col_i]].max()))\n",
    "    print('the min value of the column {} in both training and testing sets are: '.format(col_i) + \n",
    "          str(df_train[col_train[col_i]].min()) +' , ' + str(df_test[col_test[col_i]].min()))\n",
    "    print('Number of uniqe values of the column {}: '.format(col_i) + \n",
    "          str(len(df_train[col_train[col_i]].value_counts())) + '/' + str(len(df_train[col_train[col_i]])) + ' , ' +\n",
    "          str(len(df_test[col_test[col_i]].value_counts())) + '/' + str(len(df_test[col_test[col_i]])))\n",
    "    print('Number of uniqe values of the column {} in both datasets compared to the uniqe values in train set: '.format(col_i) + \n",
    "          str(len(pd.concat([df_train[col_train[col_i]],df_test[col_test[col_i]]]).value_counts())) + '/' +\n",
    "         str(len(df_train[col_train[col_i]].value_counts())))\n",
    "    \n",
    "    print('The most frequent values of the column {} in both datasets: \\n'.format(col_i) + \n",
    "          str(df_train[col_train[col_i]].value_counts().head()) + ' , \\n' +\n",
    "         str(df_test[col_test[col_i]].value_counts().head()))\n",
    "    print ('correlation between the feature and the target')\n",
    "    print(np.corrcoef([df_train[col_train[col_i]].fillna(-9999),Y_train]))\n",
    "    \n",
    "    if print_feature:\n",
    "        \n",
    "        plt.scatter(df_train[col_train[0]],df_train[col_train[col_i]],c=Y_train)\n"
   ]
  },
  {
   "cell_type": "code",
   "execution_count": 130,
   "metadata": {},
   "outputs": [
    {
     "data": {
      "application/vnd.jupyter.widget-view+json": {
       "model_id": "f242130f6c4543729c1e86e678f91a7c",
       "version_major": 2,
       "version_minor": 0
      },
      "text/html": [
       "<p>Failed to display Jupyter Widget of type <code>interactive</code>.</p>\n",
       "<p>\n",
       "  If you're reading this message in the Jupyter Notebook or JupyterLab Notebook, it may mean\n",
       "  that the widgets JavaScript is still loading. If this message persists, it\n",
       "  likely means that the widgets JavaScript library is either not installed or\n",
       "  not enabled. See the <a href=\"https://ipywidgets.readthedocs.io/en/stable/user_install.html\">Jupyter\n",
       "  Widgets Documentation</a> for setup instructions.\n",
       "</p>\n",
       "<p>\n",
       "  If you're reading this message in another frontend (for example, a static\n",
       "  rendering on GitHub or <a href=\"https://nbviewer.jupyter.org/\">NBViewer</a>),\n",
       "  it may mean that your frontend doesn't currently support widgets.\n",
       "</p>\n"
      ],
      "text/plain": [
       "interactive(children=(IntSlider(value=0, description='x', max=130), Checkbox(value=False, description='print_feature'), Output()), _dom_classes=('widget-interact',))"
      ]
     },
     "metadata": {},
     "output_type": "display_data"
    }
   ],
   "source": [
    "interact(f, x=widgets.IntSlider(min=0,max=130,step=1,value=0));"
   ]
  },
  {
   "cell_type": "markdown",
   "metadata": {},
   "source": [
    "## Document the non-object comparison\n",
    "to delete:\n",
    "['FLAG_MOBIL','FLAG_DOCUMENT_2','FLAG_DOCUMENT_4','FLAG_DOCUMENT_7','FLAG_DOCUMENT_10','FLAG_DOCUMENT_12',\n",
    "'FLAG_DOCUMENT_13','FLAG_DOCUMENT_14','FLAG_DOCUMENT_15','FLAG_DOCUMENT_16',\n",
    "'FLAG_DOCUMENT_17','FLAG_DOCUMENT_19','FLAG_DOCUMENT_20','FLAG_DOCUMENT_21']"
   ]
  },
  {
   "cell_type": "code",
   "execution_count": 131,
   "metadata": {
    "collapsed": true
   },
   "outputs": [],
   "source": [
    "df_train=df_train.drop(['SK_ID_CURR','FLAG_MOBIL','FLAG_DOCUMENT_2','FLAG_DOCUMENT_4','FLAG_DOCUMENT_7','FLAG_DOCUMENT_10','FLAG_DOCUMENT_12','FLAG_DOCUMENT_13','FLAG_DOCUMENT_14','FLAG_DOCUMENT_15','FLAG_DOCUMENT_16',\n",
    "               'FLAG_DOCUMENT_17','FLAG_DOCUMENT_19','FLAG_DOCUMENT_20','FLAG_DOCUMENT_21'],axis=1)\n",
    "df_test=df_test.drop(['SK_ID_CURR','FLAG_MOBIL','FLAG_DOCUMENT_2','FLAG_DOCUMENT_4','FLAG_DOCUMENT_7','FLAG_DOCUMENT_10','FLAG_DOCUMENT_12','FLAG_DOCUMENT_13','FLAG_DOCUMENT_14','FLAG_DOCUMENT_15','FLAG_DOCUMENT_16',\n",
    "               'FLAG_DOCUMENT_17','FLAG_DOCUMENT_19','FLAG_DOCUMENT_20','FLAG_DOCUMENT_21'],axis=1)"
   ]
  },
  {
   "cell_type": "code",
   "execution_count": 132,
   "metadata": {},
   "outputs": [
    {
     "name": "stdout",
     "output_type": "stream",
     "text": [
      "(307511, 171)\n",
      "(48744, 171)\n"
     ]
    }
   ],
   "source": [
    "print(df_train.shape)\n",
    "print(df_test.shape)"
   ]
  },
  {
   "cell_type": "code",
   "execution_count": 133,
   "metadata": {
    "collapsed": true
   },
   "outputs": [],
   "source": [
    "df_train = df_train.fillna(-9999)\n",
    "df_test = df_test.fillna(-9999)"
   ]
  },
  {
   "cell_type": "code",
   "execution_count": 134,
   "metadata": {
    "collapsed": true
   },
   "outputs": [],
   "source": [
    "from sklearn.model_selection import train_test_split"
   ]
  },
  {
   "cell_type": "code",
   "execution_count": 135,
   "metadata": {
    "collapsed": true
   },
   "outputs": [],
   "source": [
    "x_train, x_cv, y_train, y_cv= train_test_split(df_train,Y_train,\n",
    "                                                  test_size=0.4,stratify=Y_train,random_state=0)"
   ]
  },
  {
   "cell_type": "code",
   "execution_count": 136,
   "metadata": {},
   "outputs": [
    {
     "data": {
      "text/plain": [
       "RandomForestClassifier(bootstrap=True, class_weight='balanced',\n",
       "            criterion='gini', max_depth=20, max_features='auto',\n",
       "            max_leaf_nodes=None, min_impurity_decrease=0.0,\n",
       "            min_impurity_split=None, min_samples_leaf=1,\n",
       "            min_samples_split=2, min_weight_fraction_leaf=0.0,\n",
       "            n_estimators=10, n_jobs=1, oob_score=False, random_state=None,\n",
       "            verbose=0, warm_start=False)"
      ]
     },
     "execution_count": 136,
     "metadata": {},
     "output_type": "execute_result"
    }
   ],
   "source": [
    "rf = RandomForestClassifier(max_depth=20,class_weight='balanced')\n",
    "rf.fit(x_train,y_train)"
   ]
  },
  {
   "cell_type": "code",
   "execution_count": 137,
   "metadata": {},
   "outputs": [
    {
     "data": {
      "text/plain": [
       "0.95640792169360345"
      ]
     },
     "execution_count": 137,
     "metadata": {},
     "output_type": "execute_result"
    }
   ],
   "source": [
    "rf.score(x_train,y_train)"
   ]
  },
  {
   "cell_type": "code",
   "execution_count": 138,
   "metadata": {},
   "outputs": [
    {
     "data": {
      "text/plain": [
       "0.8870127230600382"
      ]
     },
     "execution_count": 138,
     "metadata": {},
     "output_type": "execute_result"
    }
   ],
   "source": [
    "rf.score(x_cv,y_cv)"
   ]
  },
  {
   "cell_type": "code",
   "execution_count": 139,
   "metadata": {},
   "outputs": [
    {
     "name": "stdout",
     "output_type": "stream",
     "text": [
      "0    113075\n",
      "1      9930\n",
      "Name: TARGET, dtype: int64\n"
     ]
    }
   ],
   "source": [
    "print(y_cv.value_counts())"
   ]
  },
  {
   "cell_type": "code",
   "execution_count": 140,
   "metadata": {},
   "outputs": [
    {
     "data": {
      "text/plain": [
       "0.9192663732737876"
      ]
     },
     "execution_count": 140,
     "metadata": {},
     "output_type": "execute_result"
    }
   ],
   "source": [
    "1-7448/(84806+7448)"
   ]
  },
  {
   "cell_type": "code",
   "execution_count": 141,
   "metadata": {
    "collapsed": true
   },
   "outputs": [],
   "source": [
    "y_pred_cv=pd.DataFrame(rf.predict(x_cv))"
   ]
  },
  {
   "cell_type": "code",
   "execution_count": 142,
   "metadata": {},
   "outputs": [
    {
     "data": {
      "text/plain": [
       "0    7526\n",
       "dtype: int64"
      ]
     },
     "execution_count": 142,
     "metadata": {},
     "output_type": "execute_result"
    }
   ],
   "source": [
    "y_pred_cv.sum()"
   ]
  },
  {
   "cell_type": "code",
   "execution_count": 143,
   "metadata": {},
   "outputs": [
    {
     "data": {
      "text/plain": [
       "0    1\n",
       "1    0\n",
       "2    0\n",
       "3    0\n",
       "4    0\n",
       "Name: TARGET, dtype: int64"
      ]
     },
     "execution_count": 143,
     "metadata": {},
     "output_type": "execute_result"
    }
   ],
   "source": [
    "Y_train.head()"
   ]
  },
  {
   "cell_type": "code",
   "execution_count": 158,
   "metadata": {},
   "outputs": [],
   "source": [
    "y_pred=pd.DataFrame(rf.predict_proba(df_test))"
   ]
  },
  {
   "cell_type": "code",
   "execution_count": 163,
   "metadata": {},
   "outputs": [
    {
     "data": {
      "text/html": [
       "<div>\n",
       "<style scoped>\n",
       "    .dataframe tbody tr th:only-of-type {\n",
       "        vertical-align: middle;\n",
       "    }\n",
       "\n",
       "    .dataframe tbody tr th {\n",
       "        vertical-align: top;\n",
       "    }\n",
       "\n",
       "    .dataframe thead th {\n",
       "        text-align: right;\n",
       "    }\n",
       "</style>\n",
       "<table border=\"1\" class=\"dataframe\">\n",
       "  <thead>\n",
       "    <tr style=\"text-align: right;\">\n",
       "      <th></th>\n",
       "      <th>0</th>\n",
       "      <th>1</th>\n",
       "    </tr>\n",
       "  </thead>\n",
       "  <tbody>\n",
       "    <tr>\n",
       "      <th>0</th>\n",
       "      <td>0.759194</td>\n",
       "      <td>0.240806</td>\n",
       "    </tr>\n",
       "    <tr>\n",
       "      <th>1</th>\n",
       "      <td>0.658873</td>\n",
       "      <td>0.341127</td>\n",
       "    </tr>\n",
       "    <tr>\n",
       "      <th>2</th>\n",
       "      <td>0.956762</td>\n",
       "      <td>0.043238</td>\n",
       "    </tr>\n",
       "    <tr>\n",
       "      <th>3</th>\n",
       "      <td>0.943751</td>\n",
       "      <td>0.056249</td>\n",
       "    </tr>\n",
       "    <tr>\n",
       "      <th>4</th>\n",
       "      <td>0.518787</td>\n",
       "      <td>0.481213</td>\n",
       "    </tr>\n",
       "  </tbody>\n",
       "</table>\n",
       "</div>"
      ],
      "text/plain": [
       "          0         1\n",
       "0  0.759194  0.240806\n",
       "1  0.658873  0.341127\n",
       "2  0.956762  0.043238\n",
       "3  0.943751  0.056249\n",
       "4  0.518787  0.481213"
      ]
     },
     "execution_count": 163,
     "metadata": {},
     "output_type": "execute_result"
    }
   ],
   "source": [
    "y_pred.head()"
   ]
  },
  {
   "cell_type": "code",
   "execution_count": 164,
   "metadata": {
    "collapsed": true
   },
   "outputs": [],
   "source": [
    "Y_submit = pd.concat([df_id_submit, y_pred[1]], axis=1)"
   ]
  },
  {
   "cell_type": "code",
   "execution_count": 165,
   "metadata": {},
   "outputs": [],
   "source": [
    "Y_submit.columns=['SK_ID_CURR','TARGET']"
   ]
  },
  {
   "cell_type": "code",
   "execution_count": 166,
   "metadata": {},
   "outputs": [
    {
     "data": {
      "text/html": [
       "<div>\n",
       "<style scoped>\n",
       "    .dataframe tbody tr th:only-of-type {\n",
       "        vertical-align: middle;\n",
       "    }\n",
       "\n",
       "    .dataframe tbody tr th {\n",
       "        vertical-align: top;\n",
       "    }\n",
       "\n",
       "    .dataframe thead th {\n",
       "        text-align: right;\n",
       "    }\n",
       "</style>\n",
       "<table border=\"1\" class=\"dataframe\">\n",
       "  <thead>\n",
       "    <tr style=\"text-align: right;\">\n",
       "      <th></th>\n",
       "      <th>SK_ID_CURR</th>\n",
       "      <th>TARGET</th>\n",
       "    </tr>\n",
       "  </thead>\n",
       "  <tbody>\n",
       "    <tr>\n",
       "      <th>0</th>\n",
       "      <td>100001</td>\n",
       "      <td>0.240806</td>\n",
       "    </tr>\n",
       "    <tr>\n",
       "      <th>1</th>\n",
       "      <td>100005</td>\n",
       "      <td>0.341127</td>\n",
       "    </tr>\n",
       "    <tr>\n",
       "      <th>2</th>\n",
       "      <td>100013</td>\n",
       "      <td>0.043238</td>\n",
       "    </tr>\n",
       "    <tr>\n",
       "      <th>3</th>\n",
       "      <td>100028</td>\n",
       "      <td>0.056249</td>\n",
       "    </tr>\n",
       "    <tr>\n",
       "      <th>4</th>\n",
       "      <td>100038</td>\n",
       "      <td>0.481213</td>\n",
       "    </tr>\n",
       "  </tbody>\n",
       "</table>\n",
       "</div>"
      ],
      "text/plain": [
       "   SK_ID_CURR    TARGET\n",
       "0      100001  0.240806\n",
       "1      100005  0.341127\n",
       "2      100013  0.043238\n",
       "3      100028  0.056249\n",
       "4      100038  0.481213"
      ]
     },
     "execution_count": 166,
     "metadata": {},
     "output_type": "execute_result"
    }
   ],
   "source": [
    "Y_submit.head()"
   ]
  },
  {
   "cell_type": "code",
   "execution_count": 167,
   "metadata": {},
   "outputs": [
    {
     "data": {
      "text/plain": [
       "'1529262276'"
      ]
     },
     "execution_count": 167,
     "metadata": {},
     "output_type": "execute_result"
    }
   ],
   "source": [
    "import datetime, time\n",
    "\n",
    "str(round(time.mktime((datetime.datetime.now().timetuple()))))"
   ]
  },
  {
   "cell_type": "code",
   "execution_count": 168,
   "metadata": {
    "collapsed": true
   },
   "outputs": [],
   "source": [
    "Y_submit.to_csv('{}_submit.csv'.format(str(round(time.mktime((datetime.datetime.now().timetuple()))))),index=False)"
   ]
  },
  {
   "cell_type": "code",
   "execution_count": 215,
   "metadata": {
    "collapsed": true
   },
   "outputs": [],
   "source": [
    "def lgb_light(x_train,y_train,x_cv,y_cv):  \n",
    "\n",
    "    d_train_final = lgb.Dataset(x_train, y_train)\n",
    "    watchlist_final = lgb.Dataset(x_train, y_train)\n",
    "\n",
    "    params = {\n",
    "            'objective': 'binary',\n",
    "            'boosting': 'gbdt',\n",
    "            'learning_rate': 0.3 ,\n",
    "            'verbose': 0,\n",
    "            'num_leaves': 150,\n",
    "            'bagging_fraction': 0.95,\n",
    "            'bagging_freq': 1,\n",
    "            'bagging_seed': 1,\n",
    "            'feature_fraction': 0.9,\n",
    "            'feature_fraction_seed': 1,\n",
    "            'max_bin': 256,\n",
    "            'max_depth': 10,\n",
    "            'num_rounds': 2000,\n",
    "            'metric' : 'auc'\n",
    "        }\n",
    "\n",
    "    #model_f1 = lgb.train(params, train_set=d_train_final,  valid_sets=watchlist_final, verbose_eval=5)\n",
    "    #y_lgb_te1=model_f1.predict(x_cv)\n",
    "    #err_cv_lgb1=np.divide(np.sum(np.square(np.subtract(y_lgb_te1,y_cv))),len(y_cv))\n",
    "\n",
    "    \n",
    "    params = {\n",
    "        'objective': 'binary',\n",
    "        'boosting': 'dart',\n",
    "        'learning_rate': 0.3 ,\n",
    "        'verbose': 0,\n",
    "        'num_leaves': 150,\n",
    "        'bagging_fraction': 0.95,\n",
    "        'bagging_freq': 1,\n",
    "        'bagging_seed': 1,\n",
    "        'feature_fraction': 0.9,\n",
    "        'feature_fraction_seed': 1,\n",
    "        'max_bin': 1000,\n",
    "        'max_depth': 10,\n",
    "        'num_rounds': 1256,\n",
    "        'metric' : 'auc',\n",
    "        'gpu_use_dp': True,\n",
    "        'save_binary': True\n",
    "    }\n",
    "\n",
    "    model_f2 = lgb.train(params, train_set=d_train_final,  valid_sets=watchlist_final, verbose_eval=5)\n",
    "    \n",
    "    y_lgb_te2=model_f2.predict(x_cv)\n",
    "    err_cv_lgb2=np.divide(np.sum(np.square(np.subtract(y_lgb_te2,y_cv))),len(y_cv))\n",
    "    \n",
    "        \n",
    "    return model_f2,y_lgb_te2,err_cv_lgb2#,model_f1,err_cv_lgb1,y_lgb_te1"
   ]
  },
  {
   "cell_type": "code",
   "execution_count": 216,
   "metadata": {},
   "outputs": [
    {
     "name": "stderr",
     "output_type": "stream",
     "text": [
      "C:\\Users\\Maher Deeb\\AppData\\Local\\conda\\conda\\envs\\tensorflow-gpu\\lib\\site-packages\\lightgbm\\engine.py:98: UserWarning: Found `num_rounds` in params. Will use it instead of argument\n",
      "  warnings.warn(\"Found `{}` in params. Will use it instead of argument\".format(alias))\n"
     ]
    },
    {
     "name": "stdout",
     "output_type": "stream",
     "text": [
      "[5]\tvalid_0's auc: 0.76163\n",
      "[10]\tvalid_0's auc: 0.784662\n",
      "[15]\tvalid_0's auc: 0.810623\n",
      "[20]\tvalid_0's auc: 0.83962\n",
      "[25]\tvalid_0's auc: 0.859663\n",
      "[30]\tvalid_0's auc: 0.876571\n",
      "[35]\tvalid_0's auc: 0.887325\n",
      "[40]\tvalid_0's auc: 0.897835\n",
      "[45]\tvalid_0's auc: 0.905509\n",
      "[50]\tvalid_0's auc: 0.910026\n",
      "[55]\tvalid_0's auc: 0.918245\n",
      "[60]\tvalid_0's auc: 0.922743\n",
      "[65]\tvalid_0's auc: 0.925875\n",
      "[70]\tvalid_0's auc: 0.930527\n",
      "[75]\tvalid_0's auc: 0.935361\n",
      "[80]\tvalid_0's auc: 0.93823\n",
      "[85]\tvalid_0's auc: 0.9398\n",
      "[90]\tvalid_0's auc: 0.941964\n",
      "[95]\tvalid_0's auc: 0.943558\n",
      "[100]\tvalid_0's auc: 0.946802\n",
      "[105]\tvalid_0's auc: 0.947847\n",
      "[110]\tvalid_0's auc: 0.948437\n",
      "[115]\tvalid_0's auc: 0.952413\n",
      "[120]\tvalid_0's auc: 0.954696\n",
      "[125]\tvalid_0's auc: 0.956306\n",
      "[130]\tvalid_0's auc: 0.958787\n",
      "[135]\tvalid_0's auc: 0.961108\n",
      "[140]\tvalid_0's auc: 0.96266\n",
      "[145]\tvalid_0's auc: 0.963553\n",
      "[150]\tvalid_0's auc: 0.964584\n",
      "[155]\tvalid_0's auc: 0.965608\n",
      "[160]\tvalid_0's auc: 0.965022\n",
      "[165]\tvalid_0's auc: 0.967708\n",
      "[170]\tvalid_0's auc: 0.970201\n",
      "[175]\tvalid_0's auc: 0.972503\n",
      "[180]\tvalid_0's auc: 0.973029\n",
      "[185]\tvalid_0's auc: 0.974662\n",
      "[190]\tvalid_0's auc: 0.976022\n",
      "[195]\tvalid_0's auc: 0.977665\n",
      "[200]\tvalid_0's auc: 0.97858\n",
      "[205]\tvalid_0's auc: 0.978604\n",
      "[210]\tvalid_0's auc: 0.979251\n",
      "[215]\tvalid_0's auc: 0.980773\n",
      "[220]\tvalid_0's auc: 0.982068\n",
      "[225]\tvalid_0's auc: 0.982821\n",
      "[230]\tvalid_0's auc: 0.983434\n",
      "[235]\tvalid_0's auc: 0.984308\n",
      "[240]\tvalid_0's auc: 0.985881\n",
      "[245]\tvalid_0's auc: 0.986249\n",
      "[250]\tvalid_0's auc: 0.987299\n",
      "[255]\tvalid_0's auc: 0.987909\n",
      "[260]\tvalid_0's auc: 0.988791\n",
      "[265]\tvalid_0's auc: 0.989789\n",
      "[270]\tvalid_0's auc: 0.990365\n",
      "[275]\tvalid_0's auc: 0.990802\n",
      "[280]\tvalid_0's auc: 0.991072\n",
      "[285]\tvalid_0's auc: 0.991513\n",
      "[290]\tvalid_0's auc: 0.992118\n",
      "[295]\tvalid_0's auc: 0.992247\n",
      "[300]\tvalid_0's auc: 0.992654\n",
      "[305]\tvalid_0's auc: 0.992741\n",
      "[310]\tvalid_0's auc: 0.993014\n",
      "[315]\tvalid_0's auc: 0.993413\n",
      "[320]\tvalid_0's auc: 0.99404\n",
      "[325]\tvalid_0's auc: 0.994573\n",
      "[330]\tvalid_0's auc: 0.994796\n",
      "[335]\tvalid_0's auc: 0.994832\n",
      "[340]\tvalid_0's auc: 0.994936\n",
      "[345]\tvalid_0's auc: 0.99525\n",
      "[350]\tvalid_0's auc: 0.995485\n",
      "[355]\tvalid_0's auc: 0.995779\n",
      "[360]\tvalid_0's auc: 0.995944\n",
      "[365]\tvalid_0's auc: 0.996166\n",
      "[370]\tvalid_0's auc: 0.996268\n",
      "[375]\tvalid_0's auc: 0.996587\n",
      "[380]\tvalid_0's auc: 0.996712\n",
      "[385]\tvalid_0's auc: 0.996793\n",
      "[390]\tvalid_0's auc: 0.997177\n",
      "[395]\tvalid_0's auc: 0.997337\n",
      "[400]\tvalid_0's auc: 0.997516\n",
      "[405]\tvalid_0's auc: 0.997769\n",
      "[410]\tvalid_0's auc: 0.997884\n",
      "[415]\tvalid_0's auc: 0.998007\n",
      "[420]\tvalid_0's auc: 0.998029\n",
      "[425]\tvalid_0's auc: 0.998178\n",
      "[430]\tvalid_0's auc: 0.998312\n",
      "[435]\tvalid_0's auc: 0.998422\n",
      "[440]\tvalid_0's auc: 0.998477\n",
      "[445]\tvalid_0's auc: 0.998507\n",
      "[450]\tvalid_0's auc: 0.998625\n",
      "[455]\tvalid_0's auc: 0.99866\n",
      "[460]\tvalid_0's auc: 0.998668\n",
      "[465]\tvalid_0's auc: 0.998723\n",
      "[470]\tvalid_0's auc: 0.998843\n",
      "[475]\tvalid_0's auc: 0.99889\n",
      "[480]\tvalid_0's auc: 0.998982\n",
      "[485]\tvalid_0's auc: 0.998969\n",
      "[490]\tvalid_0's auc: 0.998962\n",
      "[495]\tvalid_0's auc: 0.999015\n",
      "[500]\tvalid_0's auc: 0.999022\n",
      "[505]\tvalid_0's auc: 0.999055\n",
      "[510]\tvalid_0's auc: 0.999073\n",
      "[515]\tvalid_0's auc: 0.999134\n",
      "[520]\tvalid_0's auc: 0.999152\n",
      "[525]\tvalid_0's auc: 0.999192\n",
      "[530]\tvalid_0's auc: 0.999195\n",
      "[535]\tvalid_0's auc: 0.999212\n",
      "[540]\tvalid_0's auc: 0.999212\n",
      "[545]\tvalid_0's auc: 0.999234\n",
      "[550]\tvalid_0's auc: 0.999271\n",
      "[555]\tvalid_0's auc: 0.999287\n",
      "[560]\tvalid_0's auc: 0.999334\n",
      "[565]\tvalid_0's auc: 0.999369\n",
      "[570]\tvalid_0's auc: 0.999406\n",
      "[575]\tvalid_0's auc: 0.99944\n",
      "[580]\tvalid_0's auc: 0.999478\n",
      "[585]\tvalid_0's auc: 0.999508\n",
      "[590]\tvalid_0's auc: 0.999532\n",
      "[595]\tvalid_0's auc: 0.999581\n",
      "[600]\tvalid_0's auc: 0.999604\n",
      "[605]\tvalid_0's auc: 0.999642\n",
      "[610]\tvalid_0's auc: 0.999656\n",
      "[615]\tvalid_0's auc: 0.999681\n",
      "[620]\tvalid_0's auc: 0.999707\n",
      "[625]\tvalid_0's auc: 0.999701\n",
      "[630]\tvalid_0's auc: 0.999702\n",
      "[635]\tvalid_0's auc: 0.999719\n",
      "[640]\tvalid_0's auc: 0.999743\n",
      "[645]\tvalid_0's auc: 0.999746\n",
      "[650]\tvalid_0's auc: 0.999762\n",
      "[655]\tvalid_0's auc: 0.99976\n",
      "[660]\tvalid_0's auc: 0.999769\n",
      "[665]\tvalid_0's auc: 0.999781\n",
      "[670]\tvalid_0's auc: 0.999796\n",
      "[675]\tvalid_0's auc: 0.999797\n",
      "[680]\tvalid_0's auc: 0.999811\n",
      "[685]\tvalid_0's auc: 0.999823\n",
      "[690]\tvalid_0's auc: 0.999821\n",
      "[695]\tvalid_0's auc: 0.999827\n",
      "[700]\tvalid_0's auc: 0.999831\n",
      "[705]\tvalid_0's auc: 0.999834\n",
      "[710]\tvalid_0's auc: 0.999832\n",
      "[715]\tvalid_0's auc: 0.999847\n",
      "[720]\tvalid_0's auc: 0.999854\n",
      "[725]\tvalid_0's auc: 0.999859\n",
      "[730]\tvalid_0's auc: 0.999861\n",
      "[735]\tvalid_0's auc: 0.999862\n",
      "[740]\tvalid_0's auc: 0.999866\n",
      "[745]\tvalid_0's auc: 0.999877\n",
      "[750]\tvalid_0's auc: 0.999876\n",
      "[755]\tvalid_0's auc: 0.99989\n",
      "[760]\tvalid_0's auc: 0.999896\n",
      "[765]\tvalid_0's auc: 0.999902\n",
      "[770]\tvalid_0's auc: 0.999904\n",
      "[775]\tvalid_0's auc: 0.999907\n",
      "[780]\tvalid_0's auc: 0.999907\n",
      "[785]\tvalid_0's auc: 0.999918\n",
      "[790]\tvalid_0's auc: 0.999922\n",
      "[795]\tvalid_0's auc: 0.999927\n",
      "[800]\tvalid_0's auc: 0.999928\n",
      "[805]\tvalid_0's auc: 0.99993\n",
      "[810]\tvalid_0's auc: 0.999931\n",
      "[815]\tvalid_0's auc: 0.999937\n",
      "[820]\tvalid_0's auc: 0.999937\n",
      "[825]\tvalid_0's auc: 0.99994\n",
      "[830]\tvalid_0's auc: 0.999945\n",
      "[835]\tvalid_0's auc: 0.999946\n",
      "[840]\tvalid_0's auc: 0.999947\n",
      "[845]\tvalid_0's auc: 0.999951\n",
      "[850]\tvalid_0's auc: 0.999953\n",
      "[855]\tvalid_0's auc: 0.999956\n",
      "[860]\tvalid_0's auc: 0.999955\n",
      "[865]\tvalid_0's auc: 0.999954\n",
      "[870]\tvalid_0's auc: 0.999956\n",
      "[875]\tvalid_0's auc: 0.99996\n",
      "[880]\tvalid_0's auc: 0.999959\n",
      "[885]\tvalid_0's auc: 0.999961\n",
      "[890]\tvalid_0's auc: 0.999966\n",
      "[895]\tvalid_0's auc: 0.999967\n",
      "[900]\tvalid_0's auc: 0.999966\n",
      "[905]\tvalid_0's auc: 0.999966\n",
      "[910]\tvalid_0's auc: 0.999966\n",
      "[915]\tvalid_0's auc: 0.999968\n",
      "[920]\tvalid_0's auc: 0.999967\n",
      "[925]\tvalid_0's auc: 0.999968\n",
      "[930]\tvalid_0's auc: 0.999967\n",
      "[935]\tvalid_0's auc: 0.999968\n",
      "[940]\tvalid_0's auc: 0.999967\n",
      "[945]\tvalid_0's auc: 0.999971\n",
      "[950]\tvalid_0's auc: 0.99997\n",
      "[955]\tvalid_0's auc: 0.999969\n",
      "[960]\tvalid_0's auc: 0.999967\n",
      "[965]\tvalid_0's auc: 0.999968\n",
      "[970]\tvalid_0's auc: 0.999969\n",
      "[975]\tvalid_0's auc: 0.99997\n",
      "[980]\tvalid_0's auc: 0.99997\n",
      "[985]\tvalid_0's auc: 0.99997\n",
      "[990]\tvalid_0's auc: 0.999972\n",
      "[995]\tvalid_0's auc: 0.999974\n",
      "[1000]\tvalid_0's auc: 0.999975\n",
      "[1005]\tvalid_0's auc: 0.999977\n",
      "[1010]\tvalid_0's auc: 0.999976\n",
      "[1015]\tvalid_0's auc: 0.999977\n",
      "[1020]\tvalid_0's auc: 0.999981\n",
      "[1025]\tvalid_0's auc: 0.999981\n",
      "[1030]\tvalid_0's auc: 0.99998\n",
      "[1035]\tvalid_0's auc: 0.999981\n",
      "[1040]\tvalid_0's auc: 0.999981\n",
      "[1045]\tvalid_0's auc: 0.999982\n",
      "[1050]\tvalid_0's auc: 0.999983\n",
      "[1055]\tvalid_0's auc: 0.999984\n",
      "[1060]\tvalid_0's auc: 0.999984\n",
      "[1065]\tvalid_0's auc: 0.999985\n",
      "[1070]\tvalid_0's auc: 0.999986\n",
      "[1075]\tvalid_0's auc: 0.999988\n",
      "[1080]\tvalid_0's auc: 0.999988\n",
      "[1085]\tvalid_0's auc: 0.999988\n",
      "[1090]\tvalid_0's auc: 0.999989\n",
      "[1095]\tvalid_0's auc: 0.999989\n",
      "[1100]\tvalid_0's auc: 0.999989\n",
      "[1105]\tvalid_0's auc: 0.99999\n",
      "[1110]\tvalid_0's auc: 0.999991\n",
      "[1115]\tvalid_0's auc: 0.999991\n",
      "[1120]\tvalid_0's auc: 0.999992\n",
      "[1125]\tvalid_0's auc: 0.999993\n",
      "[1130]\tvalid_0's auc: 0.999993\n",
      "[1135]\tvalid_0's auc: 0.999993\n",
      "[1140]\tvalid_0's auc: 0.999993\n",
      "[1145]\tvalid_0's auc: 0.999993\n",
      "[1150]\tvalid_0's auc: 0.999994\n",
      "[1155]\tvalid_0's auc: 0.999994\n",
      "[1160]\tvalid_0's auc: 0.999994\n",
      "[1165]\tvalid_0's auc: 0.999995\n",
      "[1170]\tvalid_0's auc: 0.999995\n",
      "[1175]\tvalid_0's auc: 0.999995\n",
      "[1180]\tvalid_0's auc: 0.999995\n",
      "[1185]\tvalid_0's auc: 0.999995\n",
      "[1190]\tvalid_0's auc: 0.999996\n",
      "[1195]\tvalid_0's auc: 0.999996\n",
      "[1200]\tvalid_0's auc: 0.999996\n",
      "[1205]\tvalid_0's auc: 0.999996\n",
      "[1210]\tvalid_0's auc: 0.999996\n",
      "[1215]\tvalid_0's auc: 0.999997\n",
      "[1220]\tvalid_0's auc: 0.999997\n",
      "[1225]\tvalid_0's auc: 0.999997\n",
      "[1230]\tvalid_0's auc: 0.999997\n",
      "[1235]\tvalid_0's auc: 0.999997\n",
      "[1240]\tvalid_0's auc: 0.999997\n",
      "[1245]\tvalid_0's auc: 0.999997\n",
      "[1250]\tvalid_0's auc: 0.999997\n",
      "[1255]\tvalid_0's auc: 0.999997\n"
     ]
    }
   ],
   "source": [
    "model_f2,y_lgb_te2,err_cv_lgb2= lgb_light(x_train,y_train,x_cv,y_cv)"
   ]
  },
  {
   "cell_type": "code",
   "execution_count": 217,
   "metadata": {},
   "outputs": [
    {
     "name": "stdout",
     "output_type": "stream",
     "text": [
      "0.0717699952961\n"
     ]
    }
   ],
   "source": [
    "y_lgb_te2=model_f2.predict(df_test)\n",
    "#y_lgb_te1=model_f1.predict(df_test)\n",
    "\n",
    "print(err_cv_lgb1,err_cv_lgb2)\n",
    "print((y_lgb_te1+y_lgb_te2)/2)\n",
    "y_lgb_mean=(y_lgb_te1+y_lgb_te2)/2"
   ]
  },
  {
   "cell_type": "markdown",
   "metadata": {},
   "source": [
    "0.0690553830321"
   ]
  },
  {
   "cell_type": "code",
   "execution_count": 211,
   "metadata": {},
   "outputs": [],
   "source": [
    "Y_submit=pd.DataFrame()\n",
    "Y_submit = pd.concat([df_id_submit, pd.DataFrame(y_lgb_mean)], axis=1)"
   ]
  },
  {
   "cell_type": "code",
   "execution_count": 212,
   "metadata": {},
   "outputs": [
    {
     "data": {
      "text/html": [
       "<div>\n",
       "<style scoped>\n",
       "    .dataframe tbody tr th:only-of-type {\n",
       "        vertical-align: middle;\n",
       "    }\n",
       "\n",
       "    .dataframe tbody tr th {\n",
       "        vertical-align: top;\n",
       "    }\n",
       "\n",
       "    .dataframe thead th {\n",
       "        text-align: right;\n",
       "    }\n",
       "</style>\n",
       "<table border=\"1\" class=\"dataframe\">\n",
       "  <thead>\n",
       "    <tr style=\"text-align: right;\">\n",
       "      <th></th>\n",
       "      <th>SK_ID_CURR</th>\n",
       "      <th>TARGET</th>\n",
       "    </tr>\n",
       "  </thead>\n",
       "  <tbody>\n",
       "    <tr>\n",
       "      <th>48739</th>\n",
       "      <td>456221</td>\n",
       "      <td>0.003951</td>\n",
       "    </tr>\n",
       "    <tr>\n",
       "      <th>48740</th>\n",
       "      <td>456222</td>\n",
       "      <td>0.037855</td>\n",
       "    </tr>\n",
       "    <tr>\n",
       "      <th>48741</th>\n",
       "      <td>456223</td>\n",
       "      <td>0.002963</td>\n",
       "    </tr>\n",
       "    <tr>\n",
       "      <th>48742</th>\n",
       "      <td>456224</td>\n",
       "      <td>0.008081</td>\n",
       "    </tr>\n",
       "    <tr>\n",
       "      <th>48743</th>\n",
       "      <td>456250</td>\n",
       "      <td>0.086402</td>\n",
       "    </tr>\n",
       "  </tbody>\n",
       "</table>\n",
       "</div>"
      ],
      "text/plain": [
       "       SK_ID_CURR    TARGET\n",
       "48739      456221  0.003951\n",
       "48740      456222  0.037855\n",
       "48741      456223  0.002963\n",
       "48742      456224  0.008081\n",
       "48743      456250  0.086402"
      ]
     },
     "execution_count": 212,
     "metadata": {},
     "output_type": "execute_result"
    }
   ],
   "source": [
    "Y_submit.columns=['SK_ID_CURR','TARGET']\n",
    "Y_submit.head()\n",
    "Y_submit.tail()\n"
   ]
  },
  {
   "cell_type": "code",
   "execution_count": 213,
   "metadata": {
    "collapsed": true
   },
   "outputs": [],
   "source": [
    "Y_submit.to_csv('{}_submit.csv'.format(str(round(time.mktime((datetime.datetime.now().timetuple()))))),index=False)"
   ]
  },
  {
   "cell_type": "code",
   "execution_count": 182,
   "metadata": {
    "collapsed": true
   },
   "outputs": [],
   "source": [
    "Y_submit.TARGET = (Y_submit.TARGET+y_pred[1])/2"
   ]
  },
  {
   "cell_type": "code",
   "execution_count": 183,
   "metadata": {},
   "outputs": [
    {
     "data": {
      "text/html": [
       "<div>\n",
       "<style scoped>\n",
       "    .dataframe tbody tr th:only-of-type {\n",
       "        vertical-align: middle;\n",
       "    }\n",
       "\n",
       "    .dataframe tbody tr th {\n",
       "        vertical-align: top;\n",
       "    }\n",
       "\n",
       "    .dataframe thead th {\n",
       "        text-align: right;\n",
       "    }\n",
       "</style>\n",
       "<table border=\"1\" class=\"dataframe\">\n",
       "  <thead>\n",
       "    <tr style=\"text-align: right;\">\n",
       "      <th></th>\n",
       "      <th>SK_ID_CURR</th>\n",
       "      <th>TARGET</th>\n",
       "    </tr>\n",
       "  </thead>\n",
       "  <tbody>\n",
       "    <tr>\n",
       "      <th>0</th>\n",
       "      <td>100001</td>\n",
       "      <td>0.129643</td>\n",
       "    </tr>\n",
       "    <tr>\n",
       "      <th>1</th>\n",
       "      <td>100005</td>\n",
       "      <td>0.225948</td>\n",
       "    </tr>\n",
       "    <tr>\n",
       "      <th>2</th>\n",
       "      <td>100013</td>\n",
       "      <td>0.026802</td>\n",
       "    </tr>\n",
       "    <tr>\n",
       "      <th>3</th>\n",
       "      <td>100028</td>\n",
       "      <td>0.041935</td>\n",
       "    </tr>\n",
       "    <tr>\n",
       "      <th>4</th>\n",
       "      <td>100038</td>\n",
       "      <td>0.387096</td>\n",
       "    </tr>\n",
       "  </tbody>\n",
       "</table>\n",
       "</div>"
      ],
      "text/plain": [
       "   SK_ID_CURR    TARGET\n",
       "0      100001  0.129643\n",
       "1      100005  0.225948\n",
       "2      100013  0.026802\n",
       "3      100028  0.041935\n",
       "4      100038  0.387096"
      ]
     },
     "execution_count": 183,
     "metadata": {},
     "output_type": "execute_result"
    }
   ],
   "source": [
    "Y_submit.head()"
   ]
  },
  {
   "cell_type": "code",
   "execution_count": 184,
   "metadata": {
    "collapsed": true
   },
   "outputs": [],
   "source": [
    "Y_submit.to_csv('{}_submit.csv'.format(str(round(time.mktime((datetime.datetime.now().timetuple()))))),index=False)"
   ]
  },
  {
   "cell_type": "code",
   "execution_count": null,
   "metadata": {
    "collapsed": true
   },
   "outputs": [],
   "source": []
  }
 ],
 "metadata": {
  "kernelspec": {
   "display_name": "Python 3",
   "language": "python",
   "name": "python3"
  },
  "language_info": {
   "codemirror_mode": {
    "name": "ipython",
    "version": 3
   },
   "file_extension": ".py",
   "mimetype": "text/x-python",
   "name": "python",
   "nbconvert_exporter": "python",
   "pygments_lexer": "ipython3",
   "version": "3.6.3"
  }
 },
 "nbformat": 4,
 "nbformat_minor": 2
}
